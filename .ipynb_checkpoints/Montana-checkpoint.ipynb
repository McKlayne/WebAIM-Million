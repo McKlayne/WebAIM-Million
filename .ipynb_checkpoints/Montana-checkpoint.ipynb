{
 "cells": [
  {
   "cell_type": "code",
   "execution_count": 1,
   "metadata": {},
   "outputs": [],
   "source": [
    "import pandas as pd"
   ]
  },
  {
   "cell_type": "code",
   "execution_count": null,
   "metadata": {},
   "outputs": [],
   "source": [
    "million = pd.read_csv('/Users/montanacragun/AIS/Million.csv', sep=';', index_col='rank')\n",
    "million2 = pd.read_csv('/Users/montanacragun/AIS/Million2.csv', sep=';', index_col='rank')"
   ]
  },
  {
   "cell_type": "code",
   "execution_count": null,
   "metadata": {},
   "outputs": [],
   "source": [
    "wave_contrast = million['contrast']\n",
    "wave_error = million.iloc[:,12:34]\n",
    "wave_alert = million.iloc[:,34:68]\n",
    "wave_feature = million.iloc[:,68:81]\n",
    "sum_totalaria = million.iloc[:,81]\n",
    "wave_html_aria = million.iloc[:,82:92]\n",
    "wave_structural = million.iloc[:,92:108]\n",
    "technologies = million.iloc[:,108:]\n",
    "#million.columns.get_loc('dl')"
   ]
  },
  {
   "cell_type": "code",
   "execution_count": null,
   "metadata": {},
   "outputs": [],
   "source": []
  }
 ],
 "metadata": {
  "kernelspec": {
   "display_name": "Python 3",
   "language": "python",
   "name": "python3"
  },
  "language_info": {
   "codemirror_mode": {
    "name": "ipython",
    "version": 3
   },
   "file_extension": ".py",
   "mimetype": "text/x-python",
   "name": "python",
   "nbconvert_exporter": "python",
   "pygments_lexer": "ipython3",
   "version": "3.7.3"
  }
 },
 "nbformat": 4,
 "nbformat_minor": 2
}
