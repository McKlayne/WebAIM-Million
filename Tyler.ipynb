{
 "cells": [
  {
   "cell_type": "code",
   "execution_count": 1,
   "metadata": {
    "collapsed": true,
    "pycharm": {
     "is_executing": false
    }
   },
   "outputs": [],
   "source": [
    "import pandas as pd"
   ]
  },
  {
   "cell_type": "code",
   "execution_count": 2,
   "metadata": {
    "pycharm": {
     "is_executing": false,
     "name": "#%%\n"
    }
   },
   "outputs": [],
   "source": [
    "million = pd.read_csv('/Users/tyler/Documents/School/BIG/WebAIM/WebAIM-Million/Million1.csv', sep=';', index_col='rank')\n",
    "million2 = pd.read_csv('/Users/tyler/Documents/School/BIG/WebAIM/WebAIM-Million/Million2.csv', sep=';', index_col='rank')"
   ]
  },
  {
   "cell_type": "code",
   "execution_count": 3,
   "metadata": {
    "pycharm": {
     "is_executing": false
    }
   },
   "outputs": [
    {
     "name": "stdout",
     "text": [
      "<class 'pandas.core.frame.DataFrame'>\nInt64Index: 1000000 entries, 1 to 1000000\nColumns: 169 entries, URL to WebFrameworks - ZURB Foundation\ndtypes: float64(2), int64(164), object(3)\nmemory usage: 1.3+ GB\n"
     ],
     "output_type": "stream"
    }
   ],
   "source": [
    "million.info()"
   ]
  },
  {
   "cell_type": "code",
   "execution_count": 4,
   "metadata": {
    "pycharm": {
     "is_executing": false
    }
   },
   "outputs": [
    {
     "data": {
      "text/plain": "                            URL  TLD  processtime  totalerrors  totalelements  \\\nrank                                                                            \n1                    google.com  com         3.21            5            410   \n2                  facebook.com  com         4.00           10            595   \n3                   youtube.com  com         5.45           43           2056   \n4                   twitter.com  com         2.94           37            669   \n5                 microsoft.com  com         4.32            0            647   \n...                         ...  ...          ...          ...            ...   \n999996           pragma-ade.com  com         2.61            8             59   \n999997          qhealthzone.com  com         2.81            2             48   \n999998      refundselection.com  com         5.11            6            176   \n999999   shopnb574australia.com  com         2.20            3             14   \n1000000               suavv.com  com         9.12          664           1722   \n\n         errordensity  totalalerts  accessrank  \\\nrank                                             \n1              0.0122            4       74265   \n2              0.0168           12      135794   \n3              0.0209           68      439632   \n4              0.0553           13      501528   \n5              0.0000           11        2396   \n...               ...          ...         ...   \n999996         0.1356            3      406549   \n999997         0.0417            2      112235   \n999998         0.0341            4      145464   \n999999         0.2143            1      380551   \n1000000        0.3856           18      998222   \n\n                                                   doctype  wcagfail  ...  \\\nrank                                                                  ...   \n1                                          <!DOCTYPE html>         1  ...   \n2                                          <!DOCTYPE html>         1  ...   \n3                                          <!DOCTYPE html>         1  ...   \n4                                          <!DOCTYPE html>         1  ...   \n5                                          <!DOCTYPE html>         0  ...   \n...                                                    ...       ...  ...   \n999996   <!DOCTYPE html PUBLIC \"-//W3C//DTD XHTML 1.0 S...         1  ...   \n999997                                     <!DOCTYPE html>         1  ...   \n999998                                     <!DOCTYPE html>         1  ...   \n999999   <!DOCTYPE html PUBLIC \"-//W3C//DTD XHTML 1.0 T...         1  ...   \n1000000                                    <!DOCTYPE html>         1  ...   \n\n         Libraries - Zepto  Google Maps  Java  PHP  \\\nrank                                                 \n1                        0            0     0    0   \n2                        0            0     0    0   \n3                        0            0     0    0   \n4                        0            0     0    0   \n5                        0            0     0    0   \n...                    ...          ...   ...  ...   \n999996                   0            0     0    0   \n999997                   0            0     0    0   \n999998                   0            0     1    0   \n999999                   0            0     0    1   \n1000000                  0            0     0    1   \n\n         WebFrameworks - animate.css  WebFrameworks - Bootstrap  \\\nrank                                                              \n1                                  0                          0   \n2                                  0                          0   \n3                                  0                          0   \n4                                  0                          0   \n5                                  0                          0   \n...                              ...                        ...   \n999996                             0                          0   \n999997                             0                          0   \n999998                             1                          1   \n999999                             0                          0   \n1000000                            0                          0   \n\n         WebFrameworks - CodeIgniter  WebFrameworks - Laravel  \\\nrank                                                            \n1                                  0                        0   \n2                                  0                        0   \n3                                  0                        0   \n4                                  0                        0   \n5                                  0                        0   \n...                              ...                      ...   \n999996                             0                        0   \n999997                             0                        0   \n999998                             0                        0   \n999999                             0                        0   \n1000000                            0                        0   \n\n         WebFrameworks - Microsoft ASP.NET  WebFrameworks - ZURB Foundation  \nrank                                                                         \n1                                        0                                0  \n2                                        0                                0  \n3                                        0                                0  \n4                                        0                                0  \n5                                        0                                0  \n...                                    ...                              ...  \n999996                                   0                                0  \n999997                                   0                                0  \n999998                                   0                                0  \n999999                                   0                                0  \n1000000                                  0                                0  \n\n[1000000 rows x 169 columns]",
      "text/html": "<div>\n<style scoped>\n    .dataframe tbody tr th:only-of-type {\n        vertical-align: middle;\n    }\n\n    .dataframe tbody tr th {\n        vertical-align: top;\n    }\n\n    .dataframe thead th {\n        text-align: right;\n    }\n</style>\n<table border=\"1\" class=\"dataframe\">\n  <thead>\n    <tr style=\"text-align: right;\">\n      <th></th>\n      <th>URL</th>\n      <th>TLD</th>\n      <th>processtime</th>\n      <th>totalerrors</th>\n      <th>totalelements</th>\n      <th>errordensity</th>\n      <th>totalalerts</th>\n      <th>accessrank</th>\n      <th>doctype</th>\n      <th>wcagfail</th>\n      <th>...</th>\n      <th>Libraries - Zepto</th>\n      <th>Google Maps</th>\n      <th>Java</th>\n      <th>PHP</th>\n      <th>WebFrameworks - animate.css</th>\n      <th>WebFrameworks - Bootstrap</th>\n      <th>WebFrameworks - CodeIgniter</th>\n      <th>WebFrameworks - Laravel</th>\n      <th>WebFrameworks - Microsoft ASP.NET</th>\n      <th>WebFrameworks - ZURB Foundation</th>\n    </tr>\n    <tr>\n      <th>rank</th>\n      <th></th>\n      <th></th>\n      <th></th>\n      <th></th>\n      <th></th>\n      <th></th>\n      <th></th>\n      <th></th>\n      <th></th>\n      <th></th>\n      <th></th>\n      <th></th>\n      <th></th>\n      <th></th>\n      <th></th>\n      <th></th>\n      <th></th>\n      <th></th>\n      <th></th>\n      <th></th>\n      <th></th>\n    </tr>\n  </thead>\n  <tbody>\n    <tr>\n      <td>1</td>\n      <td>google.com</td>\n      <td>com</td>\n      <td>3.21</td>\n      <td>5</td>\n      <td>410</td>\n      <td>0.0122</td>\n      <td>4</td>\n      <td>74265</td>\n      <td>&lt;!DOCTYPE html&gt;</td>\n      <td>1</td>\n      <td>...</td>\n      <td>0</td>\n      <td>0</td>\n      <td>0</td>\n      <td>0</td>\n      <td>0</td>\n      <td>0</td>\n      <td>0</td>\n      <td>0</td>\n      <td>0</td>\n      <td>0</td>\n    </tr>\n    <tr>\n      <td>2</td>\n      <td>facebook.com</td>\n      <td>com</td>\n      <td>4.00</td>\n      <td>10</td>\n      <td>595</td>\n      <td>0.0168</td>\n      <td>12</td>\n      <td>135794</td>\n      <td>&lt;!DOCTYPE html&gt;</td>\n      <td>1</td>\n      <td>...</td>\n      <td>0</td>\n      <td>0</td>\n      <td>0</td>\n      <td>0</td>\n      <td>0</td>\n      <td>0</td>\n      <td>0</td>\n      <td>0</td>\n      <td>0</td>\n      <td>0</td>\n    </tr>\n    <tr>\n      <td>3</td>\n      <td>youtube.com</td>\n      <td>com</td>\n      <td>5.45</td>\n      <td>43</td>\n      <td>2056</td>\n      <td>0.0209</td>\n      <td>68</td>\n      <td>439632</td>\n      <td>&lt;!DOCTYPE html&gt;</td>\n      <td>1</td>\n      <td>...</td>\n      <td>0</td>\n      <td>0</td>\n      <td>0</td>\n      <td>0</td>\n      <td>0</td>\n      <td>0</td>\n      <td>0</td>\n      <td>0</td>\n      <td>0</td>\n      <td>0</td>\n    </tr>\n    <tr>\n      <td>4</td>\n      <td>twitter.com</td>\n      <td>com</td>\n      <td>2.94</td>\n      <td>37</td>\n      <td>669</td>\n      <td>0.0553</td>\n      <td>13</td>\n      <td>501528</td>\n      <td>&lt;!DOCTYPE html&gt;</td>\n      <td>1</td>\n      <td>...</td>\n      <td>0</td>\n      <td>0</td>\n      <td>0</td>\n      <td>0</td>\n      <td>0</td>\n      <td>0</td>\n      <td>0</td>\n      <td>0</td>\n      <td>0</td>\n      <td>0</td>\n    </tr>\n    <tr>\n      <td>5</td>\n      <td>microsoft.com</td>\n      <td>com</td>\n      <td>4.32</td>\n      <td>0</td>\n      <td>647</td>\n      <td>0.0000</td>\n      <td>11</td>\n      <td>2396</td>\n      <td>&lt;!DOCTYPE html&gt;</td>\n      <td>0</td>\n      <td>...</td>\n      <td>0</td>\n      <td>0</td>\n      <td>0</td>\n      <td>0</td>\n      <td>0</td>\n      <td>0</td>\n      <td>0</td>\n      <td>0</td>\n      <td>0</td>\n      <td>0</td>\n    </tr>\n    <tr>\n      <td>...</td>\n      <td>...</td>\n      <td>...</td>\n      <td>...</td>\n      <td>...</td>\n      <td>...</td>\n      <td>...</td>\n      <td>...</td>\n      <td>...</td>\n      <td>...</td>\n      <td>...</td>\n      <td>...</td>\n      <td>...</td>\n      <td>...</td>\n      <td>...</td>\n      <td>...</td>\n      <td>...</td>\n      <td>...</td>\n      <td>...</td>\n      <td>...</td>\n      <td>...</td>\n      <td>...</td>\n    </tr>\n    <tr>\n      <td>999996</td>\n      <td>pragma-ade.com</td>\n      <td>com</td>\n      <td>2.61</td>\n      <td>8</td>\n      <td>59</td>\n      <td>0.1356</td>\n      <td>3</td>\n      <td>406549</td>\n      <td>&lt;!DOCTYPE html PUBLIC \"-//W3C//DTD XHTML 1.0 S...</td>\n      <td>1</td>\n      <td>...</td>\n      <td>0</td>\n      <td>0</td>\n      <td>0</td>\n      <td>0</td>\n      <td>0</td>\n      <td>0</td>\n      <td>0</td>\n      <td>0</td>\n      <td>0</td>\n      <td>0</td>\n    </tr>\n    <tr>\n      <td>999997</td>\n      <td>qhealthzone.com</td>\n      <td>com</td>\n      <td>2.81</td>\n      <td>2</td>\n      <td>48</td>\n      <td>0.0417</td>\n      <td>2</td>\n      <td>112235</td>\n      <td>&lt;!DOCTYPE html&gt;</td>\n      <td>1</td>\n      <td>...</td>\n      <td>0</td>\n      <td>0</td>\n      <td>0</td>\n      <td>0</td>\n      <td>0</td>\n      <td>0</td>\n      <td>0</td>\n      <td>0</td>\n      <td>0</td>\n      <td>0</td>\n    </tr>\n    <tr>\n      <td>999998</td>\n      <td>refundselection.com</td>\n      <td>com</td>\n      <td>5.11</td>\n      <td>6</td>\n      <td>176</td>\n      <td>0.0341</td>\n      <td>4</td>\n      <td>145464</td>\n      <td>&lt;!DOCTYPE html&gt;</td>\n      <td>1</td>\n      <td>...</td>\n      <td>0</td>\n      <td>0</td>\n      <td>1</td>\n      <td>0</td>\n      <td>1</td>\n      <td>1</td>\n      <td>0</td>\n      <td>0</td>\n      <td>0</td>\n      <td>0</td>\n    </tr>\n    <tr>\n      <td>999999</td>\n      <td>shopnb574australia.com</td>\n      <td>com</td>\n      <td>2.20</td>\n      <td>3</td>\n      <td>14</td>\n      <td>0.2143</td>\n      <td>1</td>\n      <td>380551</td>\n      <td>&lt;!DOCTYPE html PUBLIC \"-//W3C//DTD XHTML 1.0 T...</td>\n      <td>1</td>\n      <td>...</td>\n      <td>0</td>\n      <td>0</td>\n      <td>0</td>\n      <td>1</td>\n      <td>0</td>\n      <td>0</td>\n      <td>0</td>\n      <td>0</td>\n      <td>0</td>\n      <td>0</td>\n    </tr>\n    <tr>\n      <td>1000000</td>\n      <td>suavv.com</td>\n      <td>com</td>\n      <td>9.12</td>\n      <td>664</td>\n      <td>1722</td>\n      <td>0.3856</td>\n      <td>18</td>\n      <td>998222</td>\n      <td>&lt;!DOCTYPE html&gt;</td>\n      <td>1</td>\n      <td>...</td>\n      <td>0</td>\n      <td>0</td>\n      <td>0</td>\n      <td>1</td>\n      <td>0</td>\n      <td>0</td>\n      <td>0</td>\n      <td>0</td>\n      <td>0</td>\n      <td>0</td>\n    </tr>\n  </tbody>\n</table>\n<p>1000000 rows × 169 columns</p>\n</div>"
     },
     "metadata": {},
     "output_type": "execute_result",
     "execution_count": 4
    }
   ],
   "source": [
    "million"
   ]
  },
  {
   "cell_type": "code",
   "execution_count": 5,
   "outputs": [
    {
     "name": "stdout",
     "text": [
      "<class 'pandas.core.frame.DataFrame'>\nInt64Index: 936419 entries, 1 to 1000000\nColumns: 169 entries, URL to WebFrameworks - ZURB Foundation\ndtypes: float64(1), int64(165), object(3)\nmemory usage: 1.2+ GB\n"
     ],
     "output_type": "stream"
    }
   ],
   "source": [
    "million2.info()"
   ],
   "metadata": {
    "collapsed": false,
    "pycharm": {
     "name": "#%%\n",
     "is_executing": false
    }
   }
  },
  {
   "cell_type": "code",
   "execution_count": 6,
   "outputs": [
    {
     "data": {
      "text/plain": "                            URL  TLD  totalerrors  totalelements  \\\nrank                                                               \n1                    google.com  com            4            202   \n2                  facebook.com  com           14            608   \n3                   youtube.com  com           49           2865   \n4                   twitter.com  com           42            680   \n5                 microsoft.com  com            0            656   \n...                         ...  ...          ...            ...   \n999996           pragma-ade.com  com            9             60   \n999997          qhealthzone.com  com            0             17   \n999998      refundselection.com  com            2            176   \n999999   shopnb574australia.com  com           36            755   \n1000000               suavv.com  com          340           1090   \n\n         errordensity  totalalerts  newaccessrank  accessrank  \\\nrank                                                            \n1              0.0198            2          56313       74265   \n2              0.0230           12         177073      135794   \n3              0.0171           78         470285      439632   \n4              0.0618           13         505537      501528   \n5              0.0000            2           2671        2396   \n...               ...          ...            ...         ...   \n999996         0.1500            3         371094      406549   \n999997         0.0000            1          11646      112235   \n999998         0.0114            6          45308      145464   \n999999         0.0477           67         490698      380551   \n1000000        0.3119           14         914172      998222   \n\n                                                   doctype  wcagfail  ...  \\\nrank                                                                  ...   \n1                                          <!DOCTYPE html>         1  ...   \n2                                          <!DOCTYPE html>         1  ...   \n3                                          <!DOCTYPE html>         1  ...   \n4                                          <!DOCTYPE html>         1  ...   \n5                                          <!DOCTYPE html>         0  ...   \n...                                                    ...       ...  ...   \n999996   <!DOCTYPE html PUBLIC \"-//W3C//DTD XHTML 1.0 S...         1  ...   \n999997   <!DOCTYPE html PUBLIC \"-//W3C//DTD XHTML 1.0 T...         0  ...   \n999998                                     <!DOCTYPE html>         1  ...   \n999999   <!DOCTYPE html PUBLIC \"-//W3C//DTD XHTML 1.0 S...         1  ...   \n1000000                                    <!DOCTYPE html>         1  ...   \n\n         Libraries - Zepto  Google Maps  Java  PHP  \\\nrank                                                 \n1                        0            0     0    0   \n2                        0            0     0    0   \n3                        0            0     0    0   \n4                        0            0     0    0   \n5                        0            0     0    0   \n...                    ...          ...   ...  ...   \n999996                   0            0     0    0   \n999997                   0            0     0    0   \n999998                   0            0     1    0   \n999999                   0            0     0    1   \n1000000                  0            0     0    1   \n\n         WebFrameworks - animate.css  WebFrameworks - Bootstrap  \\\nrank                                                              \n1                                  0                          0   \n2                                  0                          0   \n3                                  0                          0   \n4                                  0                          0   \n5                                  0                          0   \n...                              ...                        ...   \n999996                             0                          0   \n999997                             0                          0   \n999998                             1                          1   \n999999                             0                          0   \n1000000                            0                          0   \n\n         WebFrameworks - CodeIgniter  WebFrameworks - Laravel  \\\nrank                                                            \n1                                  0                        0   \n2                                  0                        0   \n3                                  0                        0   \n4                                  0                        0   \n5                                  0                        0   \n...                              ...                      ...   \n999996                             0                        0   \n999997                             0                        0   \n999998                             0                        0   \n999999                             0                        0   \n1000000                            0                        0   \n\n         WebFrameworks - Microsoft ASP.NET  WebFrameworks - ZURB Foundation  \nrank                                                                         \n1                                        0                                0  \n2                                        0                                0  \n3                                        0                                0  \n4                                        0                                0  \n5                                        0                                0  \n...                                    ...                              ...  \n999996                                   0                                0  \n999997                                   0                                0  \n999998                                   0                                0  \n999999                                   0                                0  \n1000000                                  0                                0  \n\n[936419 rows x 169 columns]",
      "text/html": "<div>\n<style scoped>\n    .dataframe tbody tr th:only-of-type {\n        vertical-align: middle;\n    }\n\n    .dataframe tbody tr th {\n        vertical-align: top;\n    }\n\n    .dataframe thead th {\n        text-align: right;\n    }\n</style>\n<table border=\"1\" class=\"dataframe\">\n  <thead>\n    <tr style=\"text-align: right;\">\n      <th></th>\n      <th>URL</th>\n      <th>TLD</th>\n      <th>totalerrors</th>\n      <th>totalelements</th>\n      <th>errordensity</th>\n      <th>totalalerts</th>\n      <th>newaccessrank</th>\n      <th>accessrank</th>\n      <th>doctype</th>\n      <th>wcagfail</th>\n      <th>...</th>\n      <th>Libraries - Zepto</th>\n      <th>Google Maps</th>\n      <th>Java</th>\n      <th>PHP</th>\n      <th>WebFrameworks - animate.css</th>\n      <th>WebFrameworks - Bootstrap</th>\n      <th>WebFrameworks - CodeIgniter</th>\n      <th>WebFrameworks - Laravel</th>\n      <th>WebFrameworks - Microsoft ASP.NET</th>\n      <th>WebFrameworks - ZURB Foundation</th>\n    </tr>\n    <tr>\n      <th>rank</th>\n      <th></th>\n      <th></th>\n      <th></th>\n      <th></th>\n      <th></th>\n      <th></th>\n      <th></th>\n      <th></th>\n      <th></th>\n      <th></th>\n      <th></th>\n      <th></th>\n      <th></th>\n      <th></th>\n      <th></th>\n      <th></th>\n      <th></th>\n      <th></th>\n      <th></th>\n      <th></th>\n      <th></th>\n    </tr>\n  </thead>\n  <tbody>\n    <tr>\n      <td>1</td>\n      <td>google.com</td>\n      <td>com</td>\n      <td>4</td>\n      <td>202</td>\n      <td>0.0198</td>\n      <td>2</td>\n      <td>56313</td>\n      <td>74265</td>\n      <td>&lt;!DOCTYPE html&gt;</td>\n      <td>1</td>\n      <td>...</td>\n      <td>0</td>\n      <td>0</td>\n      <td>0</td>\n      <td>0</td>\n      <td>0</td>\n      <td>0</td>\n      <td>0</td>\n      <td>0</td>\n      <td>0</td>\n      <td>0</td>\n    </tr>\n    <tr>\n      <td>2</td>\n      <td>facebook.com</td>\n      <td>com</td>\n      <td>14</td>\n      <td>608</td>\n      <td>0.0230</td>\n      <td>12</td>\n      <td>177073</td>\n      <td>135794</td>\n      <td>&lt;!DOCTYPE html&gt;</td>\n      <td>1</td>\n      <td>...</td>\n      <td>0</td>\n      <td>0</td>\n      <td>0</td>\n      <td>0</td>\n      <td>0</td>\n      <td>0</td>\n      <td>0</td>\n      <td>0</td>\n      <td>0</td>\n      <td>0</td>\n    </tr>\n    <tr>\n      <td>3</td>\n      <td>youtube.com</td>\n      <td>com</td>\n      <td>49</td>\n      <td>2865</td>\n      <td>0.0171</td>\n      <td>78</td>\n      <td>470285</td>\n      <td>439632</td>\n      <td>&lt;!DOCTYPE html&gt;</td>\n      <td>1</td>\n      <td>...</td>\n      <td>0</td>\n      <td>0</td>\n      <td>0</td>\n      <td>0</td>\n      <td>0</td>\n      <td>0</td>\n      <td>0</td>\n      <td>0</td>\n      <td>0</td>\n      <td>0</td>\n    </tr>\n    <tr>\n      <td>4</td>\n      <td>twitter.com</td>\n      <td>com</td>\n      <td>42</td>\n      <td>680</td>\n      <td>0.0618</td>\n      <td>13</td>\n      <td>505537</td>\n      <td>501528</td>\n      <td>&lt;!DOCTYPE html&gt;</td>\n      <td>1</td>\n      <td>...</td>\n      <td>0</td>\n      <td>0</td>\n      <td>0</td>\n      <td>0</td>\n      <td>0</td>\n      <td>0</td>\n      <td>0</td>\n      <td>0</td>\n      <td>0</td>\n      <td>0</td>\n    </tr>\n    <tr>\n      <td>5</td>\n      <td>microsoft.com</td>\n      <td>com</td>\n      <td>0</td>\n      <td>656</td>\n      <td>0.0000</td>\n      <td>2</td>\n      <td>2671</td>\n      <td>2396</td>\n      <td>&lt;!DOCTYPE html&gt;</td>\n      <td>0</td>\n      <td>...</td>\n      <td>0</td>\n      <td>0</td>\n      <td>0</td>\n      <td>0</td>\n      <td>0</td>\n      <td>0</td>\n      <td>0</td>\n      <td>0</td>\n      <td>0</td>\n      <td>0</td>\n    </tr>\n    <tr>\n      <td>...</td>\n      <td>...</td>\n      <td>...</td>\n      <td>...</td>\n      <td>...</td>\n      <td>...</td>\n      <td>...</td>\n      <td>...</td>\n      <td>...</td>\n      <td>...</td>\n      <td>...</td>\n      <td>...</td>\n      <td>...</td>\n      <td>...</td>\n      <td>...</td>\n      <td>...</td>\n      <td>...</td>\n      <td>...</td>\n      <td>...</td>\n      <td>...</td>\n      <td>...</td>\n      <td>...</td>\n    </tr>\n    <tr>\n      <td>999996</td>\n      <td>pragma-ade.com</td>\n      <td>com</td>\n      <td>9</td>\n      <td>60</td>\n      <td>0.1500</td>\n      <td>3</td>\n      <td>371094</td>\n      <td>406549</td>\n      <td>&lt;!DOCTYPE html PUBLIC \"-//W3C//DTD XHTML 1.0 S...</td>\n      <td>1</td>\n      <td>...</td>\n      <td>0</td>\n      <td>0</td>\n      <td>0</td>\n      <td>0</td>\n      <td>0</td>\n      <td>0</td>\n      <td>0</td>\n      <td>0</td>\n      <td>0</td>\n      <td>0</td>\n    </tr>\n    <tr>\n      <td>999997</td>\n      <td>qhealthzone.com</td>\n      <td>com</td>\n      <td>0</td>\n      <td>17</td>\n      <td>0.0000</td>\n      <td>1</td>\n      <td>11646</td>\n      <td>112235</td>\n      <td>&lt;!DOCTYPE html PUBLIC \"-//W3C//DTD XHTML 1.0 T...</td>\n      <td>0</td>\n      <td>...</td>\n      <td>0</td>\n      <td>0</td>\n      <td>0</td>\n      <td>0</td>\n      <td>0</td>\n      <td>0</td>\n      <td>0</td>\n      <td>0</td>\n      <td>0</td>\n      <td>0</td>\n    </tr>\n    <tr>\n      <td>999998</td>\n      <td>refundselection.com</td>\n      <td>com</td>\n      <td>2</td>\n      <td>176</td>\n      <td>0.0114</td>\n      <td>6</td>\n      <td>45308</td>\n      <td>145464</td>\n      <td>&lt;!DOCTYPE html&gt;</td>\n      <td>1</td>\n      <td>...</td>\n      <td>0</td>\n      <td>0</td>\n      <td>1</td>\n      <td>0</td>\n      <td>1</td>\n      <td>1</td>\n      <td>0</td>\n      <td>0</td>\n      <td>0</td>\n      <td>0</td>\n    </tr>\n    <tr>\n      <td>999999</td>\n      <td>shopnb574australia.com</td>\n      <td>com</td>\n      <td>36</td>\n      <td>755</td>\n      <td>0.0477</td>\n      <td>67</td>\n      <td>490698</td>\n      <td>380551</td>\n      <td>&lt;!DOCTYPE html PUBLIC \"-//W3C//DTD XHTML 1.0 S...</td>\n      <td>1</td>\n      <td>...</td>\n      <td>0</td>\n      <td>0</td>\n      <td>0</td>\n      <td>1</td>\n      <td>0</td>\n      <td>0</td>\n      <td>0</td>\n      <td>0</td>\n      <td>0</td>\n      <td>0</td>\n    </tr>\n    <tr>\n      <td>1000000</td>\n      <td>suavv.com</td>\n      <td>com</td>\n      <td>340</td>\n      <td>1090</td>\n      <td>0.3119</td>\n      <td>14</td>\n      <td>914172</td>\n      <td>998222</td>\n      <td>&lt;!DOCTYPE html&gt;</td>\n      <td>1</td>\n      <td>...</td>\n      <td>0</td>\n      <td>0</td>\n      <td>0</td>\n      <td>1</td>\n      <td>0</td>\n      <td>0</td>\n      <td>0</td>\n      <td>0</td>\n      <td>0</td>\n      <td>0</td>\n    </tr>\n  </tbody>\n</table>\n<p>936419 rows × 169 columns</p>\n</div>"
     },
     "metadata": {},
     "output_type": "execute_result",
     "execution_count": 6
    }
   ],
   "source": [
    "million2"
   ],
   "metadata": {
    "collapsed": false,
    "pycharm": {
     "name": "#%%\n",
     "is_executing": false
    }
   }
  }
 ],
 "metadata": {
  "kernelspec": {
   "display_name": "Python 3",
   "language": "python",
   "name": "python3"
  },
  "language_info": {
   "codemirror_mode": {
    "name": "ipython",
    "version": 3
   },
   "file_extension": ".py",
   "mimetype": "text/x-python",
   "name": "python",
   "nbconvert_exporter": "python",
   "pygments_lexer": "ipython3",
   "version": "3.6.0"
  },
  "pycharm": {
   "stem_cell": {
    "cell_type": "raw",
    "source": [],
    "metadata": {
     "collapsed": false
    }
   }
  }
 },
 "nbformat": 4,
 "nbformat_minor": 1
}